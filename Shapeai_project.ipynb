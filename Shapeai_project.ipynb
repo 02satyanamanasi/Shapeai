{
  "nbformat": 4,
  "nbformat_minor": 0,
  "metadata": {
    "colab": {
      "name": "Shapeai_project.ipynb",
      "provenance": [],
      "collapsed_sections": [],
      "authorship_tag": "ABX9TyM2p49WjGDXj5u/+vuodnFd",
      "include_colab_link": true
    },
    "kernelspec": {
      "name": "python3",
      "display_name": "Python 3"
    },
    "language_info": {
      "name": "python"
    }
  },
  "cells": [
    {
      "cell_type": "markdown",
      "metadata": {
        "id": "view-in-github",
        "colab_type": "text"
      },
      "source": [
        "<a href=\"https://colab.research.google.com/github/02satyanamanasi/Shapeai/blob/main/Shapeai_project.ipynb\" target=\"_parent\"><img src=\"https://colab.research.google.com/assets/colab-badge.svg\" alt=\"Open In Colab\"/></a>"
      ]
    },
    {
      "cell_type": "code",
      "metadata": {
        "id": "gAIWaLXuEzCl",
        "colab": {
          "base_uri": "https://localhost:8080/"
        },
        "outputId": "29686f15-1190-44d2-c09e-2e36ccc47b71"
      },
      "source": [
        " \n",
        "import requests\n",
        "#import os\n",
        "from datetime import datetime\n",
        " \n",
        "api_key = '7eacef22534406f07a47e991acc2097f' #api key\n",
        "location = input(\"Enter the city name: \")\n",
        " \n",
        "complete_api_link = \"https://api.openweathermap.org/data/2.5/weather?q=\"+location+\"&appid=\"+api_key\n",
        "api_link = requests.get(complete_api_link)\n",
        "api_data = api_link.json()\n",
        "r = api_data\n",
        "#create variables to store and display data\n",
        "temp_city = ((api_data['main']['temp']) - 273.15)\n",
        "weather_desc = api_data['weather'][0]['description']\n",
        "hmdt = api_data['main']['humidity']\n",
        "wind_spd = api_data['wind']['speed']\n",
        "date_time = datetime.now().strftime(\"%d %b %Y | %I:%M:%S %p\")\n",
        " \n",
        "print (\"-------------------------------------------------------------\")\n",
        "print (\"Weather Stats for - {}  || {}\".format(location.upper(), date_time))\n",
        "print (\"-------------------------------------------------------------\")\n",
        " \n",
        "print (\"Current temperature is: {:.2f} deg C\".format(temp_city))\n",
        "print (\"Current weather desc  :\",weather_desc)\n",
        "print (\"Current Humidity      :\",hmdt, '%')\n",
        "print (\"Current wind speed    :\",wind_spd ,'kmph')\n",
        " \n",
        " \n",
        "r = requests.get('https://api.openweathermap.org/data/2.5/weather?q='+location+\"&appid=\"+api_key)\n",
        " \n",
        "with open('info.txt','wb') as f:    #recording information in a text file named as info\n",
        "    f.write(r.content)"
      ],
      "execution_count": null,
      "outputs": [
        {
          "output_type": "stream",
          "text": [
            "Enter the city name: Kakinada\n",
            "-------------------------------------------------------------\n",
            "Weather Stats for - KAKINADA  || 22 Jun 2021 | 02:51:56 PM\n",
            "-------------------------------------------------------------\n",
            "Current temperature is: 31.26 deg C\n",
            "Current weather desc  : overcast clouds\n",
            "Current Humidity      : 55 %\n",
            "Current wind speed    : 3.18 kmph\n"
          ],
          "name": "stdout"
        }
      ]
    },
    {
      "cell_type": "code",
      "metadata": {
        "id": "Rm5tcuj4N0nk"
      },
      "source": [
        ""
      ],
      "execution_count": null,
      "outputs": []
    },
    {
      "cell_type": "code",
      "metadata": {
        "id": "h7MrU-bGN0tW"
      },
      "source": [
        ""
      ],
      "execution_count": null,
      "outputs": []
    },
    {
      "cell_type": "markdown",
      "metadata": {
        "id": "l8OYxEUJN8oE"
      },
      "source": [
        ""
      ]
    }
  ]
}